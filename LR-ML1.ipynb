{
 "cells": [
  {
   "cell_type": "code",
   "execution_count": 1,
   "id": "ac4624ae-5457-4751-a731-4dd79f2166e5",
   "metadata": {},
   "outputs": [],
   "source": [
    "import pandas as pd\n",
    "import numpy as np \n",
    "from matplotlib import pyplot as plt\n",
    "#most important library in this project sklearn\n",
    "from sklearn import linear_model\n",
    "\n"
   ]
  },
  {
   "cell_type": "code",
   "execution_count": 2,
   "id": "531099e2-acad-455e-8a3b-979c8c9585d5",
   "metadata": {},
   "outputs": [
    {
     "data": {
      "text/html": [
       "<div>\n",
       "<style scoped>\n",
       "    .dataframe tbody tr th:only-of-type {\n",
       "        vertical-align: middle;\n",
       "    }\n",
       "\n",
       "    .dataframe tbody tr th {\n",
       "        vertical-align: top;\n",
       "    }\n",
       "\n",
       "    .dataframe thead th {\n",
       "        text-align: right;\n",
       "    }\n",
       "</style>\n",
       "<table border=\"1\" class=\"dataframe\">\n",
       "  <thead>\n",
       "    <tr style=\"text-align: right;\">\n",
       "      <th></th>\n",
       "      <th>AREA</th>\n",
       "      <th>PRICE</th>\n",
       "    </tr>\n",
       "  </thead>\n",
       "  <tbody>\n",
       "    <tr>\n",
       "      <th>0</th>\n",
       "      <td>2600</td>\n",
       "      <td>550000</td>\n",
       "    </tr>\n",
       "    <tr>\n",
       "      <th>1</th>\n",
       "      <td>3000</td>\n",
       "      <td>565000</td>\n",
       "    </tr>\n",
       "    <tr>\n",
       "      <th>2</th>\n",
       "      <td>3200</td>\n",
       "      <td>620000</td>\n",
       "    </tr>\n",
       "    <tr>\n",
       "      <th>3</th>\n",
       "      <td>3600</td>\n",
       "      <td>680000</td>\n",
       "    </tr>\n",
       "    <tr>\n",
       "      <th>4</th>\n",
       "      <td>4000</td>\n",
       "      <td>725000</td>\n",
       "    </tr>\n",
       "  </tbody>\n",
       "</table>\n",
       "</div>"
      ],
      "text/plain": [
       "   AREA   PRICE\n",
       "0  2600  550000\n",
       "1  3000  565000\n",
       "2  3200  620000\n",
       "3  3600  680000\n",
       "4  4000  725000"
      ]
     },
     "execution_count": 2,
     "metadata": {},
     "output_type": "execute_result"
    }
   ],
   "source": [
    "df = pd.read_csv(\"lm.csv\")\n",
    "df"
   ]
  },
  {
   "cell_type": "code",
   "execution_count": 3,
   "id": "9a185c4f-f0a6-482e-b8e6-0f3bb56fdf7b",
   "metadata": {},
   "outputs": [
    {
     "data": {
      "image/png": "[encoded data removed]",
      "text/plain": [
       "<Figure size 640x480 with 1 Axes>"
      ]
     },
     "metadata": {},
     "output_type": "display_data"
    }
   ],
   "source": [
    "%matplotlib inline\n",
    "plt.xlabel(\"area\")\n",
    "plt.ylabel(\"price\")\n",
    "a= plt.scatter(df.AREA,df.PRICE,color =\"green\",marker=\"+\")\n"
   ]
  },
  {
   "cell_type": "code",
   "execution_count": 4,
   "id": "cb1eca2d-26e0-45b4-8648-5e07e0ca291a",
   "metadata": {},
   "outputs": [
    {
     "name": "stdout",
     "output_type": "stream",
     "text": [
      "LinearRegression()\n"
     ]
    }
   ],
   "source": [
    "reg  = linear_model.LinearRegression()\n",
    "reg.fit(df[[\"AREA\"]].values,df.PRICE)\n",
    "print(reg)"
   ]
  },
  {
   "cell_type": "code",
   "execution_count": 5,
   "id": "29ef7bfc-14bf-4301-b506-ad18b783684f",
   "metadata": {},
   "outputs": [],
   "source": [
    "# at background i performs  on y = mx+b formula where is  m is slope   and  b is intercept(Y- intercept)\n",
    "# reg.coef_   #which is m \n",
    "# reg.intercept_ #this  is b \n",
    "\n"
   ]
  },
  {
   "cell_type": "code",
   "execution_count": 6,
   "id": "9fea80e8-a1a1-447c-b957-6b16e79f7325",
   "metadata": {},
   "outputs": [
    {
     "data": {
      "text/plain": [
       "array([617191.78082192])"
      ]
     },
     "execution_count": 6,
     "metadata": {},
     "output_type": "execute_result"
    }
   ],
   "source": [
    "reg.predict([[3200]])  # this x \"area\""
   ]
  },
  {
   "cell_type": "code",
   "execution_count": 7,
   "id": "cf1b9ee3-2f27-4b2f-ab8d-06efd1901513",
   "metadata": {},
   "outputs": [
    {
     "name": "stdout",
     "output_type": "stream",
     "text": [
      "    Random Numbers\n",
      "0             2274\n",
      "1             1542\n",
      "2             3285\n",
      "3             2639\n",
      "4             1302\n",
      "5             1554\n",
      "6             3934\n",
      "7             3714\n",
      "8             3336\n",
      "9             1881\n",
      "10            1330\n",
      "11            3753\n",
      "12            2160\n",
      "13            1861\n",
      "14            1984\n",
      "15            3596\n",
      "16            2291\n",
      "17            3219\n",
      "18            2327\n",
      "19            2956\n",
      "20            3633\n",
      "21            3455\n",
      "22            3586\n",
      "23            1271\n",
      "24            2354\n",
      "25            1768\n",
      "26            3934\n",
      "27            3455\n",
      "28            1124\n",
      "29            3879\n",
      "30            2543\n",
      "31            1828\n",
      "32            1198\n",
      "33            1826\n"
     ]
    }
   ],
   "source": [
    "\n",
    "numbers = [\n",
    "    2274, 1542, 3285, 2639, 1302, 1554, 3934, 3714, 3336, 1881, \n",
    "    1330, 3753, 2160, 1861, 1984, 3596, 2291, 3219, 2327, 2956, \n",
    "    3633, 3455, 3586, 1271, 2354, 1768, 3934, 3455, 1124, 3879, \n",
    "    2543, 1828, 1198, 1826\n",
    "]\n",
    "\n",
    "\n",
    "df1 = pd.DataFrame(numbers, columns=['Random Numbers'])\n",
    "\n",
    "# Display the DataFrame\n",
    "print(df1)\n"
   ]
  },
  {
   "cell_type": "code",
   "execution_count": 8,
   "id": "5fc2a047-21e7-45f3-b74f-28c92b3e1b77",
   "metadata": {},
   "outputs": [],
   "source": [
    "df1.to_csv(\"data.csv\",index=False)"
   ]
  },
  {
   "cell_type": "code",
   "execution_count": 9,
   "id": "5331cf6b-c54c-4361-8579-030ce3ceaff9",
   "metadata": {},
   "outputs": [
    {
     "name": "stderr",
     "output_type": "stream",
     "text": [
      "C:\\Users\\suvas\\AppData\\Local\\Programs\\Python\\Python312\\Lib\\site-packages\\sklearn\\base.py:486: UserWarning: X has feature names, but LinearRegression was fitted without feature names\n",
      "  warnings.warn(\n"
     ]
    },
    {
     "data": {
      "text/plain": [
       "array([492086.64383562, 393191.43835616, 628675.51369863, 541399.14383562,\n",
       "       360766.78082192, 394812.67123288, 716357.19178082, 686634.5890411 ,\n",
       "       635565.75342466, 438991.26712329, 364549.65753425, 691903.59589041,\n",
       "       476684.93150685, 436289.21232877, 452906.84931507, 670692.46575342,\n",
       "       494383.39041096, 619758.73287671, 499247.0890411 , 584226.71232877,\n",
       "       675691.26712329, 651642.97945205, 669341.43835616, 356578.59589041,\n",
       "       502894.8630137 , 423724.65753425, 716357.19178082, 651642.97945205,\n",
       "       336718.49315068, 708926.54109589, 528429.28082192, 431830.82191781,\n",
       "       346716.09589041, 431560.61643836])"
      ]
     },
     "execution_count": 9,
     "metadata": {},
     "output_type": "execute_result"
    }
   ],
   "source": [
    "p = reg.predict(df1)\n",
    "p\n"
   ]
  },
  {
   "cell_type": "code",
   "execution_count": 10,
   "id": "4db725de-0126-43dd-8135-861173f66e4d",
   "metadata": {},
   "outputs": [],
   "source": [
    "df1[\"prices\"] = p  #assigning to all of the prices  by giving to seperate row"
   ]
  },
  {
   "cell_type": "code",
   "execution_count": 11,
   "id": "6ed03de0-5c9d-47d2-a696-b7b8b28e6ab3",
   "metadata": {},
   "outputs": [
    {
     "data": {
      "text/html": [
       "<div>\n",
       "<style scoped>\n",
       "    .dataframe tbody tr th:only-of-type {\n",
       "        vertical-align: middle;\n",
       "    }\n",
       "\n",
       "    .dataframe tbody tr th {\n",
       "        vertical-align: top;\n",
       "    }\n",
       "\n",
       "    .dataframe thead th {\n",
       "        text-align: right;\n",
       "    }\n",
       "</style>\n",
       "<table border=\"1\" class=\"dataframe\">\n",
       "  <thead>\n",
       "    <tr style=\"text-align: right;\">\n",
       "      <th></th>\n",
       "      <th>Random Numbers</th>\n",
       "      <th>prices</th>\n",
       "    </tr>\n",
       "  </thead>\n",
       "  <tbody>\n",
       "    <tr>\n",
       "      <th>0</th>\n",
       "      <td>2274</td>\n",
       "      <td>492086.643836</td>\n",
       "    </tr>\n",
       "    <tr>\n",
       "      <th>1</th>\n",
       "      <td>1542</td>\n",
       "      <td>393191.438356</td>\n",
       "    </tr>\n",
       "    <tr>\n",
       "      <th>2</th>\n",
       "      <td>3285</td>\n",
       "      <td>628675.513699</td>\n",
       "    </tr>\n",
       "    <tr>\n",
       "      <th>3</th>\n",
       "      <td>2639</td>\n",
       "      <td>541399.143836</td>\n",
       "    </tr>\n",
       "    <tr>\n",
       "      <th>4</th>\n",
       "      <td>1302</td>\n",
       "      <td>360766.780822</td>\n",
       "    </tr>\n",
       "    <tr>\n",
       "      <th>5</th>\n",
       "      <td>1554</td>\n",
       "      <td>394812.671233</td>\n",
       "    </tr>\n",
       "    <tr>\n",
       "      <th>6</th>\n",
       "      <td>3934</td>\n",
       "      <td>716357.191781</td>\n",
       "    </tr>\n",
       "    <tr>\n",
       "      <th>7</th>\n",
       "      <td>3714</td>\n",
       "      <td>686634.589041</td>\n",
       "    </tr>\n",
       "    <tr>\n",
       "      <th>8</th>\n",
       "      <td>3336</td>\n",
       "      <td>635565.753425</td>\n",
       "    </tr>\n",
       "    <tr>\n",
       "      <th>9</th>\n",
       "      <td>1881</td>\n",
       "      <td>438991.267123</td>\n",
       "    </tr>\n",
       "    <tr>\n",
       "      <th>10</th>\n",
       "      <td>1330</td>\n",
       "      <td>364549.657534</td>\n",
       "    </tr>\n",
       "    <tr>\n",
       "      <th>11</th>\n",
       "      <td>3753</td>\n",
       "      <td>691903.595890</td>\n",
       "    </tr>\n",
       "    <tr>\n",
       "      <th>12</th>\n",
       "      <td>2160</td>\n",
       "      <td>476684.931507</td>\n",
       "    </tr>\n",
       "    <tr>\n",
       "      <th>13</th>\n",
       "      <td>1861</td>\n",
       "      <td>436289.212329</td>\n",
       "    </tr>\n",
       "    <tr>\n",
       "      <th>14</th>\n",
       "      <td>1984</td>\n",
       "      <td>452906.849315</td>\n",
       "    </tr>\n",
       "    <tr>\n",
       "      <th>15</th>\n",
       "      <td>3596</td>\n",
       "      <td>670692.465753</td>\n",
       "    </tr>\n",
       "    <tr>\n",
       "      <th>16</th>\n",
       "      <td>2291</td>\n",
       "      <td>494383.390411</td>\n",
       "    </tr>\n",
       "    <tr>\n",
       "      <th>17</th>\n",
       "      <td>3219</td>\n",
       "      <td>619758.732877</td>\n",
       "    </tr>\n",
       "    <tr>\n",
       "      <th>18</th>\n",
       "      <td>2327</td>\n",
       "      <td>499247.089041</td>\n",
       "    </tr>\n",
       "    <tr>\n",
       "      <th>19</th>\n",
       "      <td>2956</td>\n",
       "      <td>584226.712329</td>\n",
       "    </tr>\n",
       "    <tr>\n",
       "      <th>20</th>\n",
       "      <td>3633</td>\n",
       "      <td>675691.267123</td>\n",
       "    </tr>\n",
       "    <tr>\n",
       "      <th>21</th>\n",
       "      <td>3455</td>\n",
       "      <td>651642.979452</td>\n",
       "    </tr>\n",
       "    <tr>\n",
       "      <th>22</th>\n",
       "      <td>3586</td>\n",
       "      <td>669341.438356</td>\n",
       "    </tr>\n",
       "    <tr>\n",
       "      <th>23</th>\n",
       "      <td>1271</td>\n",
       "      <td>356578.595890</td>\n",
       "    </tr>\n",
       "    <tr>\n",
       "      <th>24</th>\n",
       "      <td>2354</td>\n",
       "      <td>502894.863014</td>\n",
       "    </tr>\n",
       "    <tr>\n",
       "      <th>25</th>\n",
       "      <td>1768</td>\n",
       "      <td>423724.657534</td>\n",
       "    </tr>\n",
       "    <tr>\n",
       "      <th>26</th>\n",
       "      <td>3934</td>\n",
       "      <td>716357.191781</td>\n",
       "    </tr>\n",
       "    <tr>\n",
       "      <th>27</th>\n",
       "      <td>3455</td>\n",
       "      <td>651642.979452</td>\n",
       "    </tr>\n",
       "    <tr>\n",
       "      <th>28</th>\n",
       "      <td>1124</td>\n",
       "      <td>336718.493151</td>\n",
       "    </tr>\n",
       "    <tr>\n",
       "      <th>29</th>\n",
       "      <td>3879</td>\n",
       "      <td>708926.541096</td>\n",
       "    </tr>\n",
       "    <tr>\n",
       "      <th>30</th>\n",
       "      <td>2543</td>\n",
       "      <td>528429.280822</td>\n",
       "    </tr>\n",
       "    <tr>\n",
       "      <th>31</th>\n",
       "      <td>1828</td>\n",
       "      <td>431830.821918</td>\n",
       "    </tr>\n",
       "    <tr>\n",
       "      <th>32</th>\n",
       "      <td>1198</td>\n",
       "      <td>346716.095890</td>\n",
       "    </tr>\n",
       "    <tr>\n",
       "      <th>33</th>\n",
       "      <td>1826</td>\n",
       "      <td>431560.616438</td>\n",
       "    </tr>\n",
       "  </tbody>\n",
       "</table>\n",
       "</div>"
      ],
      "text/plain": [
       "    Random Numbers         prices\n",
       "0             2274  492086.643836\n",
       "1             1542  393191.438356\n",
       "2             3285  628675.513699\n",
       "3             2639  541399.143836\n",
       "4             1302  360766.780822\n",
       "5             1554  394812.671233\n",
       "6             3934  716357.191781\n",
       "7             3714  686634.589041\n",
       "8             3336  635565.753425\n",
       "9             1881  438991.267123\n",
       "10            1330  364549.657534\n",
       "11            3753  691903.595890\n",
       "12            2160  476684.931507\n",
       "13            1861  436289.212329\n",
       "14            1984  452906.849315\n",
       "15            3596  670692.465753\n",
       "16            2291  494383.390411\n",
       "17            3219  619758.732877\n",
       "18            2327  499247.089041\n",
       "19            2956  584226.712329\n",
       "20            3633  675691.267123\n",
       "21            3455  651642.979452\n",
       "22            3586  669341.438356\n",
       "23            1271  356578.595890\n",
       "24            2354  502894.863014\n",
       "25            1768  423724.657534\n",
       "26            3934  716357.191781\n",
       "27            3455  651642.979452\n",
       "28            1124  336718.493151\n",
       "29            3879  708926.541096\n",
       "30            2543  528429.280822\n",
       "31            1828  431830.821918\n",
       "32            1198  346716.095890\n",
       "33            1826  431560.616438"
      ]
     },
     "execution_count": 11,
     "metadata": {},
     "output_type": "execute_result"
    }
   ],
   "source": [
    "df1"
   ]
  },
  {
   "cell_type": "code",
   "execution_count": 12,
   "id": "72c01176-c3a4-4543-ad26-6b99008be104",
   "metadata": {},
   "outputs": [],
   "source": [
    "df1.to_csv(\"data.csv\")  # exporting to dataset "
   ]
  },
  {
   "cell_type": "code",
   "execution_count": null,
   "id": "b8703401-e5b9-43b1-a185-71c1a1f47a82",
   "metadata": {},
   "outputs": [],
   "source": []
  }
 ],
 "metadata": {
  "kernelspec": {
   "display_name": "Python 3 (ipykernel)",
   "language": "python",
   "name": "python3"
  },
  "language_info": {
   "codemirror_mode": {
    "name": "ipython",
    "version": 3
   },
   "file_extension": ".py",
   "mimetype": "text/x-python",
   "name": "python",
   "nbconvert_exporter": "python",
   "pygments_lexer": "ipython3",
   "version": "3.12.3"
  }
 },
 "nbformat": 4,
 "nbformat_minor": 5
}
